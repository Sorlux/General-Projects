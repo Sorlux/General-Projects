{
 "cells": [
  {
   "cell_type": "code",
   "execution_count": 2,
   "id": "dc8b9efb-e0e5-4370-bbbf-3397dd8c56e2",
   "metadata": {},
   "outputs": [],
   "source": [
    "import numpy as np\n",
    "import matplotlib.pyplot as plt\n",
    "%matplotlib inline\n",
    "import tensorflow as tf\n",
    "from sklearn.metrics import confusion_matrix\n",
    "import seaborn as sns"
   ]
  },
  {
   "cell_type": "code",
   "execution_count": 3,
   "id": "de806d94-e151-45c2-84e5-cec9e5c4a0c5",
   "metadata": {},
   "outputs": [
    {
     "name": "stdout",
     "output_type": "stream",
     "text": [
      "Downloading data from https://storage.googleapis.com/tensorflow/tf-keras-datasets/mnist.npz\n",
      "11490434/11490434 [==============================] - 1s 0us/step\n",
      "(60000, 28, 28) (60000,)\n",
      "(10000, 28, 28) (10000,)\n"
     ]
    }
   ],
   "source": [
    "from keras.datasets import mnist\n",
    "(x_train, y_train), (x_test, y_test) = mnist.load_data()\n",
    "print(x_train.shape,y_train.shape) # 60,000 images of 28x28 size\n",
    "print(x_test.shape,y_test.shape) # 10,000 labels"
   ]
  },
  {
   "cell_type": "code",
   "execution_count": 4,
   "id": "444c2018-0e91-42d3-acdc-2389a3c288cd",
   "metadata": {},
   "outputs": [],
   "source": [
    "categories = 10\n",
    "f, ax = plt.subplots(1, categories, figsize=(20,20))\n",
    "\n",
    "for i in range(0,categories):\n",
    "  sample = x_train[y_train == i][0]\n",
    "  ax[i].imshow(sample, cmap = 'gray')\n",
    "  ax[i].set_title(\"Label is {}\".format(i), fontsize = 16)"
   ]
  },
  {
   "cell_type": "code",
   "execution_count": 5,
   "id": "7a9cedbf-07c6-456b-8eb9-fa37f56b0a91",
   "metadata": {},
   "outputs": [
    {
     "name": "stdout",
     "output_type": "stream",
     "text": [
      "(60000, 784)\n"
     ]
    }
   ],
   "source": [
    " # Normalizing the data (Dividing by 255 to give each pixel a value from 0 to 1)\n",
    "x_train = x_train/255.0\n",
    "x_test = x_test/255.0\n",
    "\n",
    " # Reshape x dataset so the 2d image is transformed into a 1d vector\n",
    "x_train = x_train.reshape(x_train.shape[0],-1)\n",
    "x_test = x_test.reshape(x_test.shape[0],-1)\n",
    "print(x_train.shape)"
   ]
  },
  {
   "cell_type": "code",
   "execution_count": 6,
   "id": "a0655617-5997-43c2-90f1-12f94783c5ac",
   "metadata": {},
   "outputs": [
    {
     "name": "stdout",
     "output_type": "stream",
     "text": [
      "Epoch 1/10\n",
      "1875/1875 [==============================] - 7s 3ms/step - loss: 0.4023 - accuracy: 0.8848\n",
      "Epoch 2/10\n",
      "1875/1875 [==============================] - 6s 3ms/step - loss: 0.2219 - accuracy: 0.9351\n",
      "Epoch 3/10\n",
      "1875/1875 [==============================] - 7s 4ms/step - loss: 0.1762 - accuracy: 0.9487\n",
      "Epoch 4/10\n",
      "1875/1875 [==============================] - 6s 3ms/step - loss: 0.1495 - accuracy: 0.9561\n",
      "Epoch 5/10\n",
      "1875/1875 [==============================] - 6s 3ms/step - loss: 0.1317 - accuracy: 0.9604\n",
      "Epoch 6/10\n",
      "1875/1875 [==============================] - 6s 3ms/step - loss: 0.1178 - accuracy: 0.9646\n",
      "Epoch 7/10\n",
      "1875/1875 [==============================] - 6s 3ms/step - loss: 0.1077 - accuracy: 0.9677\n",
      "Epoch 8/10\n",
      "1875/1875 [==============================] - 6s 3ms/step - loss: 0.0996 - accuracy: 0.9696\n",
      "Epoch 9/10\n",
      "1875/1875 [==============================] - 5s 3ms/step - loss: 0.0925 - accuracy: 0.9719\n",
      "Epoch 10/10\n",
      "1875/1875 [==============================] - 5s 3ms/step - loss: 0.0874 - accuracy: 0.9731\n"
     ]
    },
    {
     "data": {
      "text/plain": [
       "<keras.callbacks.History at 0x1c4894170a0>"
      ]
     },
     "execution_count": 6,
     "metadata": {},
     "output_type": "execute_result"
    }
   ],
   "source": [
    "tf.random.set_seed(1234)\n",
    "\n",
    "# Creating model using SparseCateogricalCrossentropy\n",
    "model = tf.keras.models.Sequential([\n",
    "    tf.keras.Input(shape=(784,)),\n",
    "    tf.keras.layers.Dense(25,activation = 'relu', name = 'L1'),\n",
    "    tf.keras.layers.Dense(15,activation = 'relu', name = 'L2'),\n",
    "    tf.keras.layers.Dense(10,activation = 'linear', name = 'L3')\n",
    "], name = \"MNIST_model\")\n",
    "\n",
    "# Optimizer is Adam to have varying learning rate. Loss is sparsecategoricalcrossentropy for softmax. Metric used for future analysis\n",
    "model.compile(optimizer = tf.keras.optimizers.Adam(learning_rate = 0.001), loss = tf.keras.losses.SparseCategoricalCrossentropy(from_logits=True), metrics=['accuracy'])\n",
    "\n",
    "#Fitting model and running through it 10 times\n",
    "model.fit(x_train,y_train, epochs = 10)"
   ]
  },
  {
   "cell_type": "code",
   "execution_count": 7,
   "id": "f05cca51-50f1-4cbb-9ef9-5d666f7b4839",
   "metadata": {},
   "outputs": [
    {
     "name": "stdout",
     "output_type": "stream",
     "text": [
      "1/1 [==============================] - 0s 240ms/step\n",
      " predicting a seven: \n",
      "[[ -3.6345263  -10.764201     2.0745478    3.1702983  -11.613892\n",
      "   -2.710788   -19.991898    11.922365    -3.7301648   -0.65692705]]\n"
     ]
    }
   ],
   "source": [
    "# Grab an individual feature and predict its label\n",
    "image_7 = x_test[0]\n",
    "plt.imshow(image_7.reshape(28,28), cmap = 'gray') # Displaying the image in greyscale\n",
    "\n",
    "prediction = model.predict(image_7.reshape(1,784)) # Prediction for the very first feature in x_test\n",
    "\n",
    "print(f\" predicting a seven: \\n{prediction}\")"
   ]
  },
  {
   "cell_type": "code",
   "execution_count": 8,
   "id": "ec7c578a-7fe9-4968-ae83-f1cbf46bc237",
   "metadata": {},
   "outputs": [
    {
     "name": "stdout",
     "output_type": "stream",
     "text": [
      " predicting a seven. Probability vector: \n",
      "[[1.7524047e-07 1.4036421e-10 5.2851068e-05 1.5810016e-04 6.0012266e-11\n",
      "  4.4137622e-07 1.3794892e-14 9.9978477e-01 1.5925725e-07 3.4418290e-06]]\n",
      "Total of predictions: 1.000\n"
     ]
    }
   ],
   "source": [
    "# Change to probability using softmax\n",
    "prediction_p = tf.nn.softmax(prediction)\n",
    "print(f\" predicting a seven. Probability vector: \\n{prediction_p}\")\n",
    "print(f\"Total of predictions: {np.sum(prediction_p):0.3f}\") #Add all the values together for prediction_p"
   ]
  },
  {
   "cell_type": "code",
   "execution_count": 9,
   "id": "5eb6942d-4e76-4e60-867c-698ba784db2c",
   "metadata": {},
   "outputs": [
    {
     "name": "stdout",
     "output_type": "stream",
     "text": [
      "313/313 [==============================] - 1s 3ms/step - loss: 0.1251 - accuracy: 0.9617\n",
      "The model accuracy is 96.17%\n",
      "The model loss is 0.1251\n"
     ]
    }
   ],
   "source": [
    "\n",
    "test_loss, test_acc = model.evaluate(x_test, y_test) # evaluating model using the testing data\n",
    "\n",
    "# Printing the results\n",
    "print(f\"The model accuracy is {test_acc*100:.2f}%\")\n",
    "print(f\"The model loss is {test_loss:.4f}\")\n"
   ]
  },
  {
   "cell_type": "code",
   "execution_count": 10,
   "id": "e3a1c236-e815-4e6a-a685-4c12d7080349",
   "metadata": {},
   "outputs": [
    {
     "name": "stdout",
     "output_type": "stream",
     "text": [
      "313/313 [==============================] - 1s 2ms/step\n"
     ]
    },
    {
     "data": {
      "text/plain": [
       "Text(0.5, 80.7222222222222, 'Predicted label')"
      ]
     },
     "execution_count": 10,
     "metadata": {},
     "output_type": "execute_result"
    }
   ],
   "source": [
    "y_pred = model.predict(x_test) # Predicting label vector\n",
    "y_pred = np.argmax(y_pred, axis=1) #Prediciting individual label from the values\n",
    "\n",
    "cmax = confusion_matrix(y_test, y_pred) #Creation of confusion matric\n",
    "fig, ax = plt.subplots(figsize=(10,10))\n",
    "sns.heatmap(cmax, annot=True, fmt='d', vmin=0, cmap='Blues', cbar=False) # Plotting the confusion matrix\n",
    "plt.title('Confusion Matrix')\n",
    "plt.ylabel('Actual label')\n",
    "plt.xlabel('Predicted label')"
   ]
  },
  {
   "cell_type": "code",
   "execution_count": 11,
   "id": "3e4911d9-c6c9-4619-b3e4-066b09f6737e",
   "metadata": {},
   "outputs": [],
   "source": [
    "model.save('mnist_model.h5')  # Saves the model in HDF5 format\n"
   ]
  },
  {
   "cell_type": "code",
   "execution_count": null,
   "id": "693a51f2-2f39-49d8-b3a4-7a1d5c7d6249",
   "metadata": {},
   "outputs": [],
   "source": []
  }
 ],
 "metadata": {
  "kernelspec": {
   "display_name": "Python 3 (ipykernel)",
   "language": "python",
   "name": "python3"
  },
  "language_info": {
   "codemirror_mode": {
    "name": "ipython",
    "version": 3
   },
   "file_extension": ".py",
   "mimetype": "text/x-python",
   "name": "python",
   "nbconvert_exporter": "python",
   "pygments_lexer": "ipython3",
   "version": "3.10.8"
  }
 },
 "nbformat": 4,
 "nbformat_minor": 5
}
